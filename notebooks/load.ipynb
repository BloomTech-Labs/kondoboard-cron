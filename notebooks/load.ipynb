{
 "cells": [
  {
   "cell_type": "code",
   "execution_count": 6,
   "metadata": {},
   "outputs": [],
   "source": [
    "import pandas as pd\n",
    "import json\n",
    "import requests"
   ]
  },
  {
   "cell_type": "code",
   "execution_count": 4,
   "metadata": {},
   "outputs": [],
   "source": [
    "df = pd.read_csv('./data/adzuna_transform.csv')"
   ]
  },
  {
   "cell_type": "code",
   "execution_count": 5,
   "metadata": {},
   "outputs": [
    {
     "data": {
      "text/html": [
       "<div>\n",
       "<style scoped>\n",
       "    .dataframe tbody tr th:only-of-type {\n",
       "        vertical-align: middle;\n",
       "    }\n",
       "\n",
       "    .dataframe tbody tr th {\n",
       "        vertical-align: top;\n",
       "    }\n",
       "\n",
       "    .dataframe thead th {\n",
       "        text-align: right;\n",
       "    }\n",
       "</style>\n",
       "<table border=\"1\" class=\"dataframe\">\n",
       "  <thead>\n",
       "    <tr style=\"text-align: right;\">\n",
       "      <th></th>\n",
       "      <th>id</th>\n",
       "      <th>post_url</th>\n",
       "      <th>title</th>\n",
       "      <th>title_keyword</th>\n",
       "      <th>tags</th>\n",
       "      <th>description</th>\n",
       "      <th>publication_date</th>\n",
       "      <th>location</th>\n",
       "      <th>latitude</th>\n",
       "      <th>longitude</th>\n",
       "      <th>inserted_date</th>\n",
       "    </tr>\n",
       "  </thead>\n",
       "  <tbody>\n",
       "    <tr>\n",
       "      <th>0</th>\n",
       "      <td>A1549335342</td>\n",
       "      <td>https://www.adzuna.com/land/ad/1549335342?se=T...</td>\n",
       "      <td>Data Engineer</td>\n",
       "      <td>data_engineer</td>\n",
       "      <td>it_jobs</td>\n",
       "      <td>...  for good. &lt;strong&gt;Data&lt;/strong&gt; &lt;strong&gt;E...</td>\n",
       "      <td>2020-05-19</td>\n",
       "      <td>['US', 'Illinois', 'Cook County', 'Chicago', '...</td>\n",
       "      <td>41.868494</td>\n",
       "      <td>-87.673975</td>\n",
       "      <td>2020-05-23</td>\n",
       "    </tr>\n",
       "    <tr>\n",
       "      <th>1</th>\n",
       "      <td>A1537091904</td>\n",
       "      <td>https://www.adzuna.com/land/ad/1537091904?se=T...</td>\n",
       "      <td>Data Engineer / Lead Data Engineer</td>\n",
       "      <td>data_engineer_/_lead_data_engineer</td>\n",
       "      <td>it_jobs</td>\n",
       "      <td>Menlo Park, CA &lt;strong&gt;Data&lt;/strong&gt; &lt;strong&gt;E...</td>\n",
       "      <td>2020-05-05</td>\n",
       "      <td>['US', 'California', 'San Mateo County', 'Menl...</td>\n",
       "      <td>37.448491</td>\n",
       "      <td>-122.180281</td>\n",
       "      <td>2020-05-23</td>\n",
       "    </tr>\n",
       "    <tr>\n",
       "      <th>2</th>\n",
       "      <td>A1540746038</td>\n",
       "      <td>https://www.adzuna.com/land/ad/1540746038?se=T...</td>\n",
       "      <td>Data Engineer</td>\n",
       "      <td>data_engineer</td>\n",
       "      <td>it_jobs</td>\n",
       "      <td>&lt;strong&gt;Data&lt;/strong&gt; &lt;strong&gt;Engineer&lt;/strong...</td>\n",
       "      <td>2020-05-09</td>\n",
       "      <td>['US', 'Washington', 'King County', 'Seattle']</td>\n",
       "      <td>47.608492</td>\n",
       "      <td>-122.336407</td>\n",
       "      <td>2020-05-23</td>\n",
       "    </tr>\n",
       "    <tr>\n",
       "      <th>3</th>\n",
       "      <td>A1533100037</td>\n",
       "      <td>https://www.adzuna.com/land/ad/1533100037?se=T...</td>\n",
       "      <td>Data Engineer</td>\n",
       "      <td>data_engineer</td>\n",
       "      <td>it_jobs</td>\n",
       "      <td>Role &lt;strong&gt;Data&lt;/strong&gt; &lt;strong&gt;Engineer&lt;/s...</td>\n",
       "      <td>2020-04-30</td>\n",
       "      <td>['US', 'Delaware', 'New Castle County', 'Wilmi...</td>\n",
       "      <td>39.731260</td>\n",
       "      <td>-75.545138</td>\n",
       "      <td>2020-05-23</td>\n",
       "    </tr>\n",
       "    <tr>\n",
       "      <th>4</th>\n",
       "      <td>A1550148404</td>\n",
       "      <td>https://www.adzuna.com/land/ad/1550148404?se=T...</td>\n",
       "      <td>Data Engineer</td>\n",
       "      <td>data_engineer</td>\n",
       "      <td>it_jobs</td>\n",
       "      <td>Role FullStack &lt;strong&gt;Data&lt;/strong&gt; &lt;strong&gt;E...</td>\n",
       "      <td>2020-05-20</td>\n",
       "      <td>['US', 'New York']</td>\n",
       "      <td>42.522869</td>\n",
       "      <td>-75.574677</td>\n",
       "      <td>2020-05-23</td>\n",
       "    </tr>\n",
       "  </tbody>\n",
       "</table>\n",
       "</div>"
      ],
      "text/plain": [
       "            id                                           post_url  \\\n",
       "0  A1549335342  https://www.adzuna.com/land/ad/1549335342?se=T...   \n",
       "1  A1537091904  https://www.adzuna.com/land/ad/1537091904?se=T...   \n",
       "2  A1540746038  https://www.adzuna.com/land/ad/1540746038?se=T...   \n",
       "3  A1533100037  https://www.adzuna.com/land/ad/1533100037?se=T...   \n",
       "4  A1550148404  https://www.adzuna.com/land/ad/1550148404?se=T...   \n",
       "\n",
       "                                title                       title_keyword  \\\n",
       "0                       Data Engineer                       data_engineer   \n",
       "1  Data Engineer / Lead Data Engineer  data_engineer_/_lead_data_engineer   \n",
       "2                       Data Engineer                       data_engineer   \n",
       "3                       Data Engineer                       data_engineer   \n",
       "4                       Data Engineer                       data_engineer   \n",
       "\n",
       "      tags                                        description  \\\n",
       "0  it_jobs  ...  for good. <strong>Data</strong> <strong>E...   \n",
       "1  it_jobs  Menlo Park, CA <strong>Data</strong> <strong>E...   \n",
       "2  it_jobs  <strong>Data</strong> <strong>Engineer</strong...   \n",
       "3  it_jobs  Role <strong>Data</strong> <strong>Engineer</s...   \n",
       "4  it_jobs  Role FullStack <strong>Data</strong> <strong>E...   \n",
       "\n",
       "  publication_date                                           location  \\\n",
       "0       2020-05-19  ['US', 'Illinois', 'Cook County', 'Chicago', '...   \n",
       "1       2020-05-05  ['US', 'California', 'San Mateo County', 'Menl...   \n",
       "2       2020-05-09     ['US', 'Washington', 'King County', 'Seattle']   \n",
       "3       2020-04-30  ['US', 'Delaware', 'New Castle County', 'Wilmi...   \n",
       "4       2020-05-20                                 ['US', 'New York']   \n",
       "\n",
       "    latitude   longitude inserted_date  \n",
       "0  41.868494  -87.673975    2020-05-23  \n",
       "1  37.448491 -122.180281    2020-05-23  \n",
       "2  47.608492 -122.336407    2020-05-23  \n",
       "3  39.731260  -75.545138    2020-05-23  \n",
       "4  42.522869  -75.574677    2020-05-23  "
      ]
     },
     "execution_count": 5,
     "metadata": {},
     "output_type": "execute_result"
    }
   ],
   "source": [
    "df.head()"
   ]
  },
  {
   "cell_type": "code",
   "execution_count": null,
   "metadata": {},
   "outputs": [],
   "source": [
    "# use elasticsearch Bulk API to perform multipe indexing operations in a single API call...\n",
    "# looks something like \n",
    "\n",
    "POST jobs/_bulk\n",
    "{ \"index\" : { \"_id\" : \"id\" }}\n",
    "{ \"post_url\": \"url\", \"title\": \"title\"}\n",
    "\n",
    "# if indexing a document:\n",
    "# { \"index\" : { \"_index\" : \"test\", \"_id\" : \"1\" } }\n",
    "# { \"field1\" : \"value1\" }\n",
    "# { \"delete\" : { \"_index\" : \"test\", \"_id\" : \"2\" } }\n",
    "# { \"create\" : { \"_index\" : \"test\", \"_id\" : \"3\" } }\n",
    "# { \"field1\" : \"value3\" }\n",
    "# { \"update\" : {\"_id\" : \"1\", \"_index\" : \"test\"} }\n",
    "# { \"doc\" : {\"field2\" : \"value2\"} }\n",
    "\n",
    "# thinking about transforming it to a json object, and then looping over it????\n"
   ]
  },
  {
   "cell_type": "code",
   "execution_count": 50,
   "metadata": {},
   "outputs": [],
   "source": [
    "query = list()"
   ]
  },
  {
   "cell_type": "code",
   "execution_count": 51,
   "metadata": {},
   "outputs": [],
   "source": [
    "for index, row in df.iterrows():\n",
    "    query.append({\"index\": {\"_id\" : row['id']}})\n",
    "    query.append({\"post_url\": row[\"post_url\"], \"title\":row[\"title\"], \"title_keyword\":row[\"title_keyword\"], \"tags\":row[\"tags\"], \"description\":row[\"description\"], \"publication_date\":row[\"publication_date\"], \"location_raw\":row[\"location\"], \"location_point\":f\"{row['latitude']},{row['longitude']}\"})\n",
    "    "
   ]
  },
  {
   "cell_type": "code",
   "execution_count": 52,
   "metadata": {},
   "outputs": [
    {
     "data": {
      "text/plain": [
       "[{'index': {'_id': 'A1549335342'}},\n",
       " {'post_url': 'https://www.adzuna.com/land/ad/1549335342?se=TATrljCd6hGHVESz3xsA5Q&utm_medium=api&utm_source=da871bdc&v=B4EFA78CF416B570A4453DBD2C44A87C643CF0A4',\n",
       "  'title': 'Data Engineer',\n",
       "  'title_keyword': 'data_engineer',\n",
       "  'tags': 'it_jobs',\n",
       "  'description': '...  for good. <strong>Data</strong> <strong>Engineer</strong> Do you want to work for a tech company that writes its own code, develops its own software, and builds its own products? We experiment and innovate leveraging ...',\n",
       "  'publication_date': '2020-05-19',\n",
       "  'location_raw': \"['US', 'Illinois', 'Cook County', 'Chicago', 'Illinois Medical District']\",\n",
       "  'location_point': '41.868494,-87.673975'},\n",
       " {'index': {'_id': 'A1537091904'}}]"
      ]
     },
     "execution_count": 52,
     "metadata": {},
     "output_type": "execute_result"
    }
   ],
   "source": [
    "query[:3]"
   ]
  },
  {
   "cell_type": "code",
   "execution_count": 54,
   "metadata": {},
   "outputs": [],
   "source": [
    "with open(\"./data/bulk_query.txt\", 'w') as f:\n",
    "    for item in query:\n",
    "        f.write(f'{json.dumps(item)}\\n')"
   ]
  },
  {
   "cell_type": "code",
   "execution_count": 7,
   "metadata": {},
   "outputs": [],
   "source": [
    "import json\n",
    "import requests\n",
    "from pprint import pprint"
   ]
  },
  {
   "cell_type": "code",
   "execution_count": null,
   "metadata": {},
   "outputs": [],
   "source": []
  }
 ],
 "metadata": {
  "kernelspec": {
   "display_name": "Python 3",
   "language": "python",
   "name": "python3"
  },
  "language_info": {
   "codemirror_mode": {
    "name": "ipython",
    "version": 3
   },
   "file_extension": ".py",
   "mimetype": "text/x-python",
   "name": "python",
   "nbconvert_exporter": "python",
   "pygments_lexer": "ipython3",
   "version": "3.7.0"
  }
 },
 "nbformat": 4,
 "nbformat_minor": 4
}
